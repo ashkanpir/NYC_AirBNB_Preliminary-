{
 "cells": [
  {
   "cell_type": "markdown",
   "id": "c747d469-ee97-4b95-880f-feefd5456042",
   "metadata": {
    "id": "bA5ajAmk7XH6"
   },
   "source": [
    "![NYC Skyline](nyc.jpg)\n",
    "\n",
    "Welcome to New York City, one of the most-visited cities in the world. There are many Airbnb listings in New York City to meet the high demand for temporary lodging for travelers, which can be anywhere between a few nights to many months. In this project, we will take a closer look at the New York Airbnb market by combining data from multiple file types like `.csv`, `.tsv`, and `.xlsx`.\n",
    "\n",
    "Recall that **CSV**, **TSV**, and **Excel** files are three common formats for storing data. \n",
    "Three files containing data on 2019 Airbnb listings are available to you:\n",
    "\n",
    "**data/airbnb_price.csv**\n",
    "This is a CSV file containing data on Airbnb listing prices and locations.\n",
    "- **`listing_id`**: unique identifier of listing\n",
    "- **`price`**: nightly listing price in USD\n",
    "- **`nbhood_full`**: name of borough and neighborhood where listing is located\n",
    "\n",
    "**data/airbnb_room_type.xlsx**\n",
    "This is an Excel file containing data on Airbnb listing descriptions and room types.\n",
    "- **`listing_id`**: unique identifier of listing\n",
    "- **`description`**: listing description\n",
    "- **`room_type`**: Airbnb has three types of rooms: shared rooms, private rooms, and entire homes/apartments\n",
    "\n",
    "**data/airbnb_last_review.tsv**\n",
    "This is a TSV file containing data on Airbnb host names and review dates.\n",
    "- **`listing_id`**: unique identifier of listing\n",
    "- **`host_name`**: name of listing host\n",
    "- **`last_review`**: date when the listing was last reviewed"
   ]
  },
  {
   "cell_type": "code",
   "execution_count": 1,
   "id": "1fdc5784-479e-46cb-b05b-68439dcc94a7",
   "metadata": {
    "executionCancelledAt": null,
    "executionTime": 3399,
    "lastExecutedAt": 1720037872636,
    "lastExecutedByKernel": "1c2a1a59-a213-46db-a5af-6f3aa6ce7d6a",
    "lastScheduledRunId": null,
    "lastSuccessfullyExecutedCode": "# Import necessary packages\nimport pandas as pd\nimport numpy as np\n\n# Begin coding here ...\n# Use as many cells as you like"
   },
   "outputs": [],
   "source": [
    "# Import necessary packages\n",
    "import pandas as pd\n",
    "import numpy as np\n",
    "\n",
    "# Begin coding here ...\n",
    "# Use as many cells as you like"
   ]
  },
  {
   "cell_type": "code",
   "execution_count": 2,
   "id": "cbfb3dc0-0748-462a-b615-a60180f64fc6",
   "metadata": {
    "executionCancelledAt": null,
    "executionTime": 1589,
    "lastExecutedAt": 1720037911267,
    "lastExecutedByKernel": "1c2a1a59-a213-46db-a5af-6f3aa6ce7d6a",
    "lastScheduledRunId": null,
    "lastSuccessfullyExecutedCode": "price_df = pd.read_csv(\"data/airbnb_price.csv\")\nroom_type_df = pd.read_excel(\"data/airbnb_room_type.xlsx\")\nlast_review_df = pd.read_csv(\"data/airbnb_last_review.tsv\")",
    "outputsMetadata": {
     "0": {
      "height": 194,
      "type": "dataFrame"
     }
    }
   },
   "outputs": [],
   "source": [
    "price_df = pd.read_csv(\"data/airbnb_price.csv\")\n",
    "room_type_df = pd.read_excel(\"data/airbnb_room_type.xlsx\")\n",
    "last_review_df = pd.read_csv(\"data/airbnb_last_review.tsv\", sep='\\t')"
   ]
  },
  {
   "cell_type": "code",
   "execution_count": 3,
   "id": "5e46b3b6-6197-4f42-b6f9-498e07a90ae3",
   "metadata": {},
   "outputs": [
    {
     "data": {
      "text/html": [
       "<div>\n",
       "<style scoped>\n",
       "    .dataframe tbody tr th:only-of-type {\n",
       "        vertical-align: middle;\n",
       "    }\n",
       "\n",
       "    .dataframe tbody tr th {\n",
       "        vertical-align: top;\n",
       "    }\n",
       "\n",
       "    .dataframe thead th {\n",
       "        text-align: right;\n",
       "    }\n",
       "</style>\n",
       "<table border=\"1\" class=\"dataframe\">\n",
       "  <thead>\n",
       "    <tr style=\"text-align: right;\">\n",
       "      <th></th>\n",
       "      <th>listing_id</th>\n",
       "      <th>price</th>\n",
       "      <th>nbhood_full</th>\n",
       "    </tr>\n",
       "  </thead>\n",
       "  <tbody>\n",
       "    <tr>\n",
       "      <th>0</th>\n",
       "      <td>2595</td>\n",
       "      <td>225 dollars</td>\n",
       "      <td>Manhattan, Midtown</td>\n",
       "    </tr>\n",
       "    <tr>\n",
       "      <th>1</th>\n",
       "      <td>3831</td>\n",
       "      <td>89 dollars</td>\n",
       "      <td>Brooklyn, Clinton Hill</td>\n",
       "    </tr>\n",
       "    <tr>\n",
       "      <th>2</th>\n",
       "      <td>5099</td>\n",
       "      <td>200 dollars</td>\n",
       "      <td>Manhattan, Murray Hill</td>\n",
       "    </tr>\n",
       "    <tr>\n",
       "      <th>3</th>\n",
       "      <td>5178</td>\n",
       "      <td>79 dollars</td>\n",
       "      <td>Manhattan, Hell's Kitchen</td>\n",
       "    </tr>\n",
       "    <tr>\n",
       "      <th>4</th>\n",
       "      <td>5238</td>\n",
       "      <td>150 dollars</td>\n",
       "      <td>Manhattan, Chinatown</td>\n",
       "    </tr>\n",
       "  </tbody>\n",
       "</table>\n",
       "</div>"
      ],
      "text/plain": [
       "   listing_id        price                nbhood_full\n",
       "0        2595  225 dollars         Manhattan, Midtown\n",
       "1        3831   89 dollars     Brooklyn, Clinton Hill\n",
       "2        5099  200 dollars     Manhattan, Murray Hill\n",
       "3        5178   79 dollars  Manhattan, Hell's Kitchen\n",
       "4        5238  150 dollars       Manhattan, Chinatown"
      ]
     },
     "execution_count": 3,
     "metadata": {},
     "output_type": "execute_result"
    }
   ],
   "source": [
    "price_df.head()"
   ]
  },
  {
   "cell_type": "code",
   "execution_count": 4,
   "id": "81e9af29-dc28-4580-96fb-b4ab574bd61d",
   "metadata": {},
   "outputs": [
    {
     "data": {
      "text/html": [
       "<div>\n",
       "<style scoped>\n",
       "    .dataframe tbody tr th:only-of-type {\n",
       "        vertical-align: middle;\n",
       "    }\n",
       "\n",
       "    .dataframe tbody tr th {\n",
       "        vertical-align: top;\n",
       "    }\n",
       "\n",
       "    .dataframe thead th {\n",
       "        text-align: right;\n",
       "    }\n",
       "</style>\n",
       "<table border=\"1\" class=\"dataframe\">\n",
       "  <thead>\n",
       "    <tr style=\"text-align: right;\">\n",
       "      <th></th>\n",
       "      <th>listing_id</th>\n",
       "      <th>description</th>\n",
       "      <th>room_type</th>\n",
       "    </tr>\n",
       "  </thead>\n",
       "  <tbody>\n",
       "    <tr>\n",
       "      <th>0</th>\n",
       "      <td>2595</td>\n",
       "      <td>Skylit Midtown Castle</td>\n",
       "      <td>Entire home/apt</td>\n",
       "    </tr>\n",
       "    <tr>\n",
       "      <th>1</th>\n",
       "      <td>3831</td>\n",
       "      <td>Cozy Entire Floor of Brownstone</td>\n",
       "      <td>Entire home/apt</td>\n",
       "    </tr>\n",
       "    <tr>\n",
       "      <th>2</th>\n",
       "      <td>5099</td>\n",
       "      <td>Large Cozy 1 BR Apartment In Midtown East</td>\n",
       "      <td>Entire home/apt</td>\n",
       "    </tr>\n",
       "    <tr>\n",
       "      <th>3</th>\n",
       "      <td>5178</td>\n",
       "      <td>Large Furnished Room Near B'way</td>\n",
       "      <td>private room</td>\n",
       "    </tr>\n",
       "    <tr>\n",
       "      <th>4</th>\n",
       "      <td>5238</td>\n",
       "      <td>Cute &amp; Cozy Lower East Side 1 bdrm</td>\n",
       "      <td>Entire home/apt</td>\n",
       "    </tr>\n",
       "  </tbody>\n",
       "</table>\n",
       "</div>"
      ],
      "text/plain": [
       "   listing_id                                description        room_type\n",
       "0        2595                      Skylit Midtown Castle  Entire home/apt\n",
       "1        3831            Cozy Entire Floor of Brownstone  Entire home/apt\n",
       "2        5099  Large Cozy 1 BR Apartment In Midtown East  Entire home/apt\n",
       "3        5178            Large Furnished Room Near B'way     private room\n",
       "4        5238         Cute & Cozy Lower East Side 1 bdrm  Entire home/apt"
      ]
     },
     "execution_count": 4,
     "metadata": {},
     "output_type": "execute_result"
    }
   ],
   "source": [
    "room_type_df.head()"
   ]
  },
  {
   "cell_type": "code",
   "execution_count": 5,
   "id": "77cb7ea3-f0e7-493d-a3e2-d4633fcc85c5",
   "metadata": {},
   "outputs": [
    {
     "data": {
      "text/html": [
       "<div>\n",
       "<style scoped>\n",
       "    .dataframe tbody tr th:only-of-type {\n",
       "        vertical-align: middle;\n",
       "    }\n",
       "\n",
       "    .dataframe tbody tr th {\n",
       "        vertical-align: top;\n",
       "    }\n",
       "\n",
       "    .dataframe thead th {\n",
       "        text-align: right;\n",
       "    }\n",
       "</style>\n",
       "<table border=\"1\" class=\"dataframe\">\n",
       "  <thead>\n",
       "    <tr style=\"text-align: right;\">\n",
       "      <th></th>\n",
       "      <th>listing_id</th>\n",
       "      <th>host_name</th>\n",
       "      <th>last_review</th>\n",
       "    </tr>\n",
       "  </thead>\n",
       "  <tbody>\n",
       "    <tr>\n",
       "      <th>0</th>\n",
       "      <td>2595</td>\n",
       "      <td>Jennifer</td>\n",
       "      <td>May 21 2019</td>\n",
       "    </tr>\n",
       "    <tr>\n",
       "      <th>1</th>\n",
       "      <td>3831</td>\n",
       "      <td>LisaRoxanne</td>\n",
       "      <td>July 05 2019</td>\n",
       "    </tr>\n",
       "    <tr>\n",
       "      <th>2</th>\n",
       "      <td>5099</td>\n",
       "      <td>Chris</td>\n",
       "      <td>June 22 2019</td>\n",
       "    </tr>\n",
       "    <tr>\n",
       "      <th>3</th>\n",
       "      <td>5178</td>\n",
       "      <td>Shunichi</td>\n",
       "      <td>June 24 2019</td>\n",
       "    </tr>\n",
       "    <tr>\n",
       "      <th>4</th>\n",
       "      <td>5238</td>\n",
       "      <td>Ben</td>\n",
       "      <td>June 09 2019</td>\n",
       "    </tr>\n",
       "  </tbody>\n",
       "</table>\n",
       "</div>"
      ],
      "text/plain": [
       "   listing_id    host_name   last_review\n",
       "0        2595     Jennifer   May 21 2019\n",
       "1        3831  LisaRoxanne  July 05 2019\n",
       "2        5099        Chris  June 22 2019\n",
       "3        5178     Shunichi  June 24 2019\n",
       "4        5238          Ben  June 09 2019"
      ]
     },
     "execution_count": 5,
     "metadata": {},
     "output_type": "execute_result"
    }
   ],
   "source": [
    "last_review_df.head()"
   ]
  },
  {
   "cell_type": "code",
   "execution_count": 6,
   "id": "cc0381d8-6e4f-41f7-ba1a-02891cbc0e78",
   "metadata": {},
   "outputs": [
    {
     "name": "stdout",
     "output_type": "stream",
     "text": [
      "<class 'pandas.core.frame.DataFrame'>\n",
      "RangeIndex: 25209 entries, 0 to 25208\n",
      "Data columns (total 3 columns):\n",
      " #   Column       Non-Null Count  Dtype \n",
      "---  ------       --------------  ----- \n",
      " 0   listing_id   25209 non-null  int64 \n",
      " 1   price        25209 non-null  object\n",
      " 2   nbhood_full  25209 non-null  object\n",
      "dtypes: int64(1), object(2)\n",
      "memory usage: 591.0+ KB\n"
     ]
    }
   ],
   "source": [
    "price_df.info()"
   ]
  },
  {
   "cell_type": "code",
   "execution_count": 7,
   "id": "41245f67-1c11-4d69-abf7-5a2b5f822d52",
   "metadata": {},
   "outputs": [
    {
     "name": "stdout",
     "output_type": "stream",
     "text": [
      "<class 'pandas.core.frame.DataFrame'>\n",
      "RangeIndex: 25209 entries, 0 to 25208\n",
      "Data columns (total 3 columns):\n",
      " #   Column       Non-Null Count  Dtype \n",
      "---  ------       --------------  ----- \n",
      " 0   listing_id   25209 non-null  int64 \n",
      " 1   description  25199 non-null  object\n",
      " 2   room_type    25209 non-null  object\n",
      "dtypes: int64(1), object(2)\n",
      "memory usage: 591.0+ KB\n"
     ]
    }
   ],
   "source": [
    "room_type_df.info()"
   ]
  },
  {
   "cell_type": "code",
   "execution_count": 8,
   "id": "e022eae8-4e70-4138-a5c1-c8f0acc2e568",
   "metadata": {},
   "outputs": [
    {
     "name": "stdout",
     "output_type": "stream",
     "text": [
      "<class 'pandas.core.frame.DataFrame'>\n",
      "RangeIndex: 25209 entries, 0 to 25208\n",
      "Data columns (total 3 columns):\n",
      " #   Column       Non-Null Count  Dtype \n",
      "---  ------       --------------  ----- \n",
      " 0   listing_id   25209 non-null  int64 \n",
      " 1   host_name    25201 non-null  object\n",
      " 2   last_review  25209 non-null  object\n",
      "dtypes: int64(1), object(2)\n",
      "memory usage: 591.0+ KB\n"
     ]
    }
   ],
   "source": [
    "last_review_df.info()"
   ]
  },
  {
   "cell_type": "code",
   "execution_count": 9,
   "id": "2d608faf-ef69-4f64-a4ef-65356f019d24",
   "metadata": {},
   "outputs": [
    {
     "data": {
      "text/plain": [
       "0   2019-05-21\n",
       "1   2019-07-05\n",
       "2   2019-06-22\n",
       "3   2019-06-24\n",
       "4   2019-06-09\n",
       "Name: last_review, dtype: datetime64[ns]"
      ]
     },
     "execution_count": 9,
     "metadata": {},
     "output_type": "execute_result"
    }
   ],
   "source": [
    "last_review_df['last_review'] = pd.to_datetime(last_review_df['last_review'])\n",
    "last_review_df['last_review'].head()"
   ]
  },
  {
   "cell_type": "code",
   "execution_count": 10,
   "id": "33ad6535-4191-493b-869e-b1cedb08037c",
   "metadata": {},
   "outputs": [
    {
     "name": "stdout",
     "output_type": "stream",
     "text": [
      "First review was recorded on: 2019-01-01, and the last review on 2019-07-09.\n"
     ]
    }
   ],
   "source": [
    "first_review = last_review_df['last_review'].min().date()\n",
    "last_review = last_review_df['last_review'].max().date()\n",
    "print(f\"First review was recorded on: {first_review}, and the last review on {last_review}.\")"
   ]
  },
  {
   "cell_type": "code",
   "execution_count": 11,
   "id": "7c900aa3-2443-4717-a386-4dccb6b17352",
   "metadata": {},
   "outputs": [
    {
     "data": {
      "text/plain": [
       "room_type\n",
       "Entire home/apt    8458\n",
       "Private room       7241\n",
       "entire home/apt    2665\n",
       "private room       2248\n",
       "ENTIRE HOME/APT    2143\n",
       "PRIVATE ROOM       1867\n",
       "Shared room         380\n",
       "shared room         110\n",
       "SHARED ROOM          97\n",
       "Name: count, dtype: int64"
      ]
     },
     "execution_count": 11,
     "metadata": {},
     "output_type": "execute_result"
    }
   ],
   "source": [
    "room_type_df['room_type'].value_counts()"
   ]
  },
  {
   "cell_type": "code",
   "execution_count": 12,
   "id": "70702d07-7367-4687-a700-e5fe8b80a02b",
   "metadata": {},
   "outputs": [],
   "source": [
    "room_type_df['room_type'] = room_type_df.room_type.str.lower()"
   ]
  },
  {
   "cell_type": "code",
   "execution_count": 13,
   "id": "a0c2778d-9c8a-41a1-8813-32a2945b1fe5",
   "metadata": {},
   "outputs": [
    {
     "data": {
      "text/plain": [
       "room_type\n",
       "entire home/apt    13266\n",
       "private room       11356\n",
       "shared room          587\n",
       "Name: count, dtype: int64"
      ]
     },
     "execution_count": 13,
     "metadata": {},
     "output_type": "execute_result"
    }
   ],
   "source": [
    "room_type_df.room_type.value_counts()"
   ]
  },
  {
   "cell_type": "code",
   "execution_count": 14,
   "id": "2ff849f4-2a88-4f0f-b1f9-eea261cf7a82",
   "metadata": {},
   "outputs": [],
   "source": [
    "private_room_count = room_type_df[room_type_df['room_type'] == 'private room'].shape[0]"
   ]
  },
  {
   "cell_type": "code",
   "execution_count": 15,
   "id": "0eeb7aef-2212-4eba-bf01-d7019368f401",
   "metadata": {},
   "outputs": [
    {
     "name": "stdout",
     "output_type": "stream",
     "text": [
      "11356\n"
     ]
    }
   ],
   "source": [
    "print(private_room_count)"
   ]
  },
  {
   "cell_type": "code",
   "execution_count": 16,
   "id": "4913aea5-4851-490b-a773-90c92c2e1d25",
   "metadata": {},
   "outputs": [
    {
     "data": {
      "text/plain": [
       "listing_id     11356\n",
       "description    11346\n",
       "room_type      11356\n",
       "dtype: int64"
      ]
     },
     "execution_count": 16,
     "metadata": {},
     "output_type": "execute_result"
    }
   ],
   "source": [
    "private_room_count_1 = room_type_df[room_type_df['room_type'] == 'private room'].count()\n",
    "private_room_count_1"
   ]
  },
  {
   "cell_type": "code",
   "execution_count": 17,
   "id": "9c164720-eb40-46a9-b9c9-837968ac78b0",
   "metadata": {},
   "outputs": [
    {
     "name": "stdout",
     "output_type": "stream",
     "text": [
      "11356\n"
     ]
    }
   ],
   "source": [
    "private_room_count_2 = (room_type_df['room_type'] == 'private room').sum()\n",
    "print(private_room_count_2)"
   ]
  },
  {
   "cell_type": "code",
   "execution_count": 18,
   "id": "10abb6ce-fbac-453b-a295-989710ddb2d0",
   "metadata": {},
   "outputs": [],
   "source": [
    "price_df['price'] = price_df['price'].str.extract('(\\d+)').astype(int)"
   ]
  },
  {
   "cell_type": "code",
   "execution_count": 23,
   "id": "e7de2232-9c1e-4742-ae93-edad671d844c",
   "metadata": {},
   "outputs": [],
   "source": [
    "average_listing_price = round(price_df.price.mean(), 2)"
   ]
  },
  {
   "cell_type": "code",
   "execution_count": 24,
   "id": "39dfd7ef-4221-4efd-8de6-6df7f9f1c29e",
   "metadata": {},
   "outputs": [
    {
     "name": "stdout",
     "output_type": "stream",
     "text": [
      "141.78\n"
     ]
    }
   ],
   "source": [
    "print(average_listing_price)"
   ]
  },
  {
   "cell_type": "code",
   "execution_count": null,
   "id": "25f8598d-5327-4c9f-ad38-3dcd920f2d64",
   "metadata": {},
   "outputs": [],
   "source": [
    "review_dates = pd.DataFrame({\n",
    "'first_reviewed': [earliest_review], 'last_reviewed': [most_recent_review], 'nb_private_rooms': [private_room_count], \n",
    "'avg_price': [average_listing_price]\n",
    "})"
   ]
  },
  {
   "cell_type": "code",
   "execution_count": 26,
   "id": "0a930825-dd6c-4ebe-8862-4d4c76dd39c6",
   "metadata": {},
   "outputs": [
    {
     "data": {
      "text/html": [
       "<div>\n",
       "<style scoped>\n",
       "    .dataframe tbody tr th:only-of-type {\n",
       "        vertical-align: middle;\n",
       "    }\n",
       "\n",
       "    .dataframe tbody tr th {\n",
       "        vertical-align: top;\n",
       "    }\n",
       "\n",
       "    .dataframe thead th {\n",
       "        text-align: right;\n",
       "    }\n",
       "</style>\n",
       "<table border=\"1\" class=\"dataframe\">\n",
       "  <thead>\n",
       "    <tr style=\"text-align: right;\">\n",
       "      <th></th>\n",
       "      <th>listing_id</th>\n",
       "      <th>price</th>\n",
       "      <th>nbhood_full</th>\n",
       "      <th>description</th>\n",
       "      <th>room_type</th>\n",
       "      <th>host_name</th>\n",
       "      <th>last_review</th>\n",
       "    </tr>\n",
       "  </thead>\n",
       "  <tbody>\n",
       "    <tr>\n",
       "      <th>0</th>\n",
       "      <td>2595</td>\n",
       "      <td>225</td>\n",
       "      <td>Manhattan, Midtown</td>\n",
       "      <td>Skylit Midtown Castle</td>\n",
       "      <td>entire home/apt</td>\n",
       "      <td>Jennifer</td>\n",
       "      <td>2019-05-21</td>\n",
       "    </tr>\n",
       "    <tr>\n",
       "      <th>1</th>\n",
       "      <td>3831</td>\n",
       "      <td>89</td>\n",
       "      <td>Brooklyn, Clinton Hill</td>\n",
       "      <td>Cozy Entire Floor of Brownstone</td>\n",
       "      <td>entire home/apt</td>\n",
       "      <td>LisaRoxanne</td>\n",
       "      <td>2019-07-05</td>\n",
       "    </tr>\n",
       "    <tr>\n",
       "      <th>2</th>\n",
       "      <td>5099</td>\n",
       "      <td>200</td>\n",
       "      <td>Manhattan, Murray Hill</td>\n",
       "      <td>Large Cozy 1 BR Apartment In Midtown East</td>\n",
       "      <td>entire home/apt</td>\n",
       "      <td>Chris</td>\n",
       "      <td>2019-06-22</td>\n",
       "    </tr>\n",
       "    <tr>\n",
       "      <th>3</th>\n",
       "      <td>5178</td>\n",
       "      <td>79</td>\n",
       "      <td>Manhattan, Hell's Kitchen</td>\n",
       "      <td>Large Furnished Room Near B'way</td>\n",
       "      <td>private room</td>\n",
       "      <td>Shunichi</td>\n",
       "      <td>2019-06-24</td>\n",
       "    </tr>\n",
       "    <tr>\n",
       "      <th>4</th>\n",
       "      <td>5238</td>\n",
       "      <td>150</td>\n",
       "      <td>Manhattan, Chinatown</td>\n",
       "      <td>Cute &amp; Cozy Lower East Side 1 bdrm</td>\n",
       "      <td>entire home/apt</td>\n",
       "      <td>Ben</td>\n",
       "      <td>2019-06-09</td>\n",
       "    </tr>\n",
       "  </tbody>\n",
       "</table>\n",
       "</div>"
      ],
      "text/plain": [
       "   listing_id  price                nbhood_full  \\\n",
       "0        2595    225         Manhattan, Midtown   \n",
       "1        3831     89     Brooklyn, Clinton Hill   \n",
       "2        5099    200     Manhattan, Murray Hill   \n",
       "3        5178     79  Manhattan, Hell's Kitchen   \n",
       "4        5238    150       Manhattan, Chinatown   \n",
       "\n",
       "                                 description        room_type    host_name  \\\n",
       "0                      Skylit Midtown Castle  entire home/apt     Jennifer   \n",
       "1            Cozy Entire Floor of Brownstone  entire home/apt  LisaRoxanne   \n",
       "2  Large Cozy 1 BR Apartment In Midtown East  entire home/apt        Chris   \n",
       "3            Large Furnished Room Near B'way     private room     Shunichi   \n",
       "4         Cute & Cozy Lower East Side 1 bdrm  entire home/apt          Ben   \n",
       "\n",
       "  last_review  \n",
       "0  2019-05-21  \n",
       "1  2019-07-05  \n",
       "2  2019-06-22  \n",
       "3  2019-06-24  \n",
       "4  2019-06-09  "
      ]
     },
     "execution_count": 26,
     "metadata": {},
     "output_type": "execute_result"
    }
   ],
   "source": [
    "merged = pd.merge(price_df, room_type_df, on='listing_id')\n",
    "merged = pd.merge(merged, last_review_df, on='listing_id')\n",
    "merged.head()"
   ]
  },
  {
   "cell_type": "code",
   "execution_count": 27,
   "id": "629e2d0a-ca53-4585-b028-64be9e5a3d9c",
   "metadata": {},
   "outputs": [
    {
     "name": "stdout",
     "output_type": "stream",
     "text": [
      "<class 'pandas.core.frame.DataFrame'>\n",
      "RangeIndex: 25209 entries, 0 to 25208\n",
      "Data columns (total 7 columns):\n",
      " #   Column       Non-Null Count  Dtype         \n",
      "---  ------       --------------  -----         \n",
      " 0   listing_id   25209 non-null  int64         \n",
      " 1   price        25209 non-null  int32         \n",
      " 2   nbhood_full  25209 non-null  object        \n",
      " 3   description  25199 non-null  object        \n",
      " 4   room_type    25209 non-null  object        \n",
      " 5   host_name    25201 non-null  object        \n",
      " 6   last_review  25209 non-null  datetime64[ns]\n",
      "dtypes: datetime64[ns](1), int32(1), int64(1), object(4)\n",
      "memory usage: 1.3+ MB\n"
     ]
    }
   ],
   "source": [
    "merged.info()"
   ]
  },
  {
   "cell_type": "code",
   "execution_count": null,
   "id": "90128593-81d5-488b-8f40-b9f1e8db6e4e",
   "metadata": {},
   "outputs": [],
   "source": []
  }
 ],
 "metadata": {
  "colab": {
   "name": "Welcome to DataCamp Workspaces.ipynb",
   "provenance": []
  },
  "editor": "DataLab",
  "kernelspec": {
   "display_name": "Python 3 (ipykernel)",
   "language": "python",
   "name": "python3"
  },
  "language_info": {
   "codemirror_mode": {
    "name": "ipython",
    "version": 3
   },
   "file_extension": ".py",
   "mimetype": "text/x-python",
   "name": "python",
   "nbconvert_exporter": "python",
   "pygments_lexer": "ipython3",
   "version": "3.9.18"
  }
 },
 "nbformat": 4,
 "nbformat_minor": 5
}
